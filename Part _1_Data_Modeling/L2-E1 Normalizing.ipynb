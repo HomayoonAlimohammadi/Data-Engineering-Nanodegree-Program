{
 "cells": [
  {
   "cell_type": "code",
   "execution_count": 1,
   "metadata": {},
   "outputs": [],
   "source": [
    "import psycopg2 as pg2\n",
    "import json\n",
    "\n",
    "try:\n",
    "    with open('db_credentials.json', 'r') as f:\n",
    "        data = json.load(f)\n",
    "        USER = data['username']\n",
    "        PASSWORD = data['password']\n",
    "\n",
    "except FileNotFoundError as e:\n",
    "    print('Error: Invalid file name.')\n",
    "\n",
    "except KeyError as e:\n",
    "    print('Error: Invalid Key in json file.') \n",
    "\n",
    "except Exception as e:\n",
    "    print('Error: Invalid workflow.')\n",
    "    print(e)\n"
   ]
  },
  {
   "cell_type": "code",
   "execution_count": 2,
   "metadata": {},
   "outputs": [],
   "source": [
    "try:\n",
    "    conn = pg2.connect(\n",
    "        host='localhost',\n",
    "        database='udacity',\n",
    "        user=USER,\n",
    "        password=PASSWORD\n",
    "    )\n",
    "    conn.set_session(autocommit=True)\n",
    "    cur = conn.cursor()\n",
    "\n",
    "except Exception as e:\n",
    "    print(e)"
   ]
  },
  {
   "cell_type": "code",
   "execution_count": 26,
   "metadata": {},
   "outputs": [],
   "source": [
    "query = \"DROP TABLE IF EXISTS music_store\"\n",
    "cur.execute(query)"
   ]
  },
  {
   "cell_type": "code",
   "execution_count": 27,
   "metadata": {},
   "outputs": [],
   "source": [
    "query = \"\"\"\n",
    "CREATE TABLE IF NOT EXISTS music_store (\n",
    "    transaction_id INT NOT NULL UNIQUE,\n",
    "    customer_name VARCHAR(50) NOT NULL,\n",
    "    cashier_name VARCHAR(50),\n",
    "    year INT,\n",
    "    albums_purchased TEXT[] NOT NULL\n",
    ")\n",
    "\"\"\"\n",
    "cur.execute(query)"
   ]
  },
  {
   "cell_type": "code",
   "execution_count": 8,
   "metadata": {},
   "outputs": [],
   "source": [
    "query = \"\"\"\n",
    "INSERT INTO music_store\n",
    "(transaction_id, customer_name, cashier_name, year, albums_purchased)\n",
    "VALUES\n",
    "(%s, %s, %s, %s, %s)\n",
    "\"\"\"\n",
    "\n",
    "cur.execute(query, (1, \"Amanda\", \"Sam\", 2000, [\"Rubber Soul\", \"Let it Be\"]))\n",
    "cur.execute(query, (2, \"Toby\", \"Sam\", 2000, [\"My Generation\"]))\n",
    "cur.execute(query, (3, \"Max\", \"Bob\", 2018, [\"Meet the Beatles\", \"Help!\"]))"
   ]
  },
  {
   "cell_type": "code",
   "execution_count": 10,
   "metadata": {},
   "outputs": [
    {
     "name": "stdout",
     "output_type": "stream",
     "text": [
      "(1, 'Amanda', 'Sam', 2000, ['Rubber Soul', 'Let it Be'])\n",
      "(2, 'Toby', 'Sam', 2000, ['My Generation'])\n",
      "(3, 'Max', 'Bob', 2018, ['Meet the Beatles', 'Help!'])\n"
     ]
    }
   ],
   "source": [
    "query = \"SELECT * FROM music_store\"\n",
    "cur.execute(query)\n",
    "row = cur.fetchone()\n",
    "while row:\n",
    "    print(row)\n",
    "    row = cur.fetchone()"
   ]
  },
  {
   "cell_type": "markdown",
   "metadata": {},
   "source": [
    "### Moving to the First Normal Form"
   ]
  },
  {
   "cell_type": "code",
   "execution_count": 12,
   "metadata": {},
   "outputs": [
    {
     "name": "stdout",
     "output_type": "stream",
     "text": [
      "(1, 'Amanda', 'Sam', 2000, 'Let it Be')\n",
      "(1, 'Amanda', 'Sam', 2000, 'Rubber Soul')\n",
      "(2, 'Toby', 'Sam', 2000, 'My Generation')\n",
      "(3, 'Max', 'Bob', 2018, 'Help!')\n",
      "(3, 'Max', 'Bob', 2018, 'Meet the Beatles')\n"
     ]
    }
   ],
   "source": [
    "q1 = \"\"\"\n",
    "DROP TABLE IF EXISTS music_store\n",
    "\"\"\"\n",
    "\n",
    "q2 = \"\"\"\n",
    "CREATE TABLE IF NOT EXISTS music_store (\n",
    "    transaction_id INT NOT NULL,\n",
    "    customer_name VARCHAR(50) NOT NULL,\n",
    "    cashier_name VARCHAR(50) NOT NULL,\n",
    "    year INT,\n",
    "    album_purchased VARCHAR(128) NOT NULL\n",
    ")\n",
    "\"\"\"\n",
    "\n",
    "q3 = \"\"\"\n",
    "INSERT INTO music_store \n",
    "(transaction_id, customer_name, cashier_name, year, album_purchased)\n",
    "VALUES\n",
    "(%s, %s, %s, %s, %s)\n",
    "\"\"\"\n",
    "\n",
    "cur.execute(q1)\n",
    "cur.execute(q2)\n",
    "cur.execute(q3, (1, 'Amanda', 'Sam', 2000, 'Let it Be'))\n",
    "cur.execute(q3, (1, 'Amanda', 'Sam', 2000, 'Rubber Soul'))\n",
    "cur.execute(q3, (2, 'Toby', 'Sam', 2000, 'My Generation'))\n",
    "cur.execute(q3, (3, 'Max', 'Bob', 2018, 'Help!'))\n",
    "cur.execute(q3, (3, 'Max', 'Bob', 2018, 'Meet the Beatles'))\n",
    "cur.execute('SELECT * FROM music_store')\n",
    "row = cur.fetchone()\n",
    "while row:\n",
    "    print(row)\n",
    "    row = cur.fetchone()"
   ]
  },
  {
   "cell_type": "code",
   "execution_count": 14,
   "metadata": {},
   "outputs": [
    {
     "name": "stdout",
     "output_type": "stream",
     "text": [
      "(1, 'Amanda', 'Sam', 2000, 'Let it Be')\n",
      "(2, 'Amanda', 'Sam', 2000, 'Rubber Soul')\n",
      "(3, 'Toby', 'Sam', 2000, 'My Generation')\n",
      "(4, 'Max', 'Bob', 2018, 'Help!')\n",
      "(5, 'Max', 'Bob', 2018, 'Meet the Beatles')\n"
     ]
    }
   ],
   "source": [
    "q1 = \"\"\"\n",
    "DROP TABLE IF EXISTS music_store\n",
    "\"\"\"\n",
    "\n",
    "q2 = \"\"\"\n",
    "CREATE TABLE IF NOT EXISTS music_store (\n",
    "    transaction_id SERIAL PRIMARY KEY,\n",
    "    customer_name VARCHAR(50) NOT NULL,\n",
    "    cashier_name VARCHAR(50) NOT NULL,\n",
    "    year INT,\n",
    "    album_purchased VARCHAR(128) NOT NULL\n",
    ")\n",
    "\"\"\"\n",
    "\n",
    "q3 = \"\"\"\n",
    "INSERT INTO music_store \n",
    "(customer_name, cashier_name, year, album_purchased)\n",
    "VALUES\n",
    "(%s, %s, %s, %s)\n",
    "\"\"\"\n",
    "\n",
    "cur.execute(q1)\n",
    "cur.execute(q2)\n",
    "cur.execute(q3, ('Amanda', 'Sam', 2000, 'Let it Be'))\n",
    "cur.execute(q3, ('Amanda', 'Sam', 2000, 'Rubber Soul'))\n",
    "cur.execute(q3, ('Toby', 'Sam', 2000, 'My Generation'))\n",
    "cur.execute(q3, ('Max', 'Bob', 2018, 'Help!'))\n",
    "cur.execute(q3, ('Max', 'Bob', 2018, 'Meet the Beatles'))\n",
    "cur.execute('SELECT * FROM music_store')\n",
    "row = cur.fetchone()\n",
    "while row:\n",
    "    print(row)\n",
    "    row = cur.fetchone()"
   ]
  },
  {
   "cell_type": "code",
   "execution_count": 32,
   "metadata": {},
   "outputs": [
    {
     "name": "stdout",
     "output_type": "stream",
     "text": [
      "(1, 'Amanda')\n",
      "(2, 'Toby')\n",
      "(3, 'Max')\n",
      "\n",
      "(1, 'Sam')\n",
      "(2, 'Bob')\n"
     ]
    }
   ],
   "source": [
    "q1 = \"\"\"\n",
    "DROP TABLE IF EXISTS music_store, cashier, customer\n",
    "\"\"\"\n",
    "\n",
    "q2 = \"\"\"\n",
    "CREATE TABLE IF NOT EXISTS customer (\n",
    "    customer_id SERIAL PRIMARY KEY,\n",
    "    customer_name VARCHAR(50) NOT NULL\n",
    ")\n",
    "\"\"\"\n",
    "\n",
    "q3 = \"\"\"\n",
    "CREATE TABLE IF NOT EXISTS cashier (\n",
    "    cashier_id SERIAL PRIMARY KEY,\n",
    "    cashier_name VARCHAR(50) NOT NULL\n",
    ")\n",
    "\"\"\"\n",
    "\n",
    "q6 = \"\"\"\n",
    "INSERT INTO customer \n",
    "(customer_name)\n",
    "VALUES\n",
    "(%s)\n",
    "\"\"\"\n",
    "\n",
    "q5 = \"\"\"\n",
    "INSERT INTO cashier\n",
    "(cashier_name)\n",
    "VALUES\n",
    "(%s)\n",
    "\"\"\"\n",
    "\n",
    "cur.execute(q1)\n",
    "cur.execute(q2)\n",
    "cur.execute(q3)\n",
    "\n",
    "cur.execute(q5, ('Sam', ))\n",
    "cur.execute(q5, ('Bob', ))\n",
    "cur.execute(q6, ('Amanda', ))\n",
    "cur.execute(q6, ('Toby', ))\n",
    "cur.execute(q6, ('Max', ))\n",
    "\n",
    "cur.execute('SELECT * FROM customer')\n",
    "row = cur.fetchone()\n",
    "while row:\n",
    "    print(row)\n",
    "    row = cur.fetchone()\n",
    "print()\n",
    "cur.execute('SELECT * FROM cashier')\n",
    "row = cur.fetchone()\n",
    "while row:\n",
    "    print(row)\n",
    "    row = cur.fetchone()"
   ]
  },
  {
   "cell_type": "code",
   "execution_count": 33,
   "metadata": {},
   "outputs": [
    {
     "name": "stdout",
     "output_type": "stream",
     "text": [
      "(1, 1, 1, 2000, 'Let it Be')\n",
      "(2, 1, 1, 2000, 'Rubber Soul')\n",
      "(3, 2, 1, 2000, 'My Generation')\n",
      "(4, 3, 2, 2018, 'Help!')\n",
      "(5, 3, 2, 2018, 'Meet the Beatles')\n"
     ]
    }
   ],
   "source": [
    "q4 = \"\"\"\n",
    "CREATE TABLE IF NOT EXISTS music_store (\n",
    "    transaction_id SERIAL PRIMARY KEY,\n",
    "    customer_id INT REFERENCES customer(customer_id),\n",
    "    cashier_id INT REFERENCES cashier(cashier_id),\n",
    "    year INT,\n",
    "    album_purchased VARCHAR(128) NOT NULL\n",
    ")\n",
    "\"\"\"\n",
    "\n",
    "q7 = \"\"\"\n",
    "INSERT INTO music_store \n",
    "(customer_id, cashier_id, year, album_purchased)\n",
    "VALUES\n",
    "(%s, %s, %s, %s)\n",
    "\"\"\"\n",
    "\n",
    "cur.execute(q4)\n",
    "cur.execute(q7, (1, 1, 2000, 'Let it Be'))\n",
    "cur.execute(q7, (1, 1, 2000, 'Rubber Soul'))\n",
    "cur.execute(q7, (2, 1, 2000, 'My Generation'))\n",
    "cur.execute(q7, (3, 2, 2018, 'Help!'))\n",
    "cur.execute(q7, (3, 2, 2018, 'Meet the Beatles'))\n",
    "cur.execute('SELECT * FROM music_store')\n",
    "row = cur.fetchone()\n",
    "while row:\n",
    "    print(row)\n",
    "    row = cur.fetchone()"
   ]
  },
  {
   "cell_type": "code",
   "execution_count": 38,
   "metadata": {},
   "outputs": [
    {
     "data": {
      "text/plain": [
       "[(1, 'Let it Be', 2000, 'Amanda', 'Sam'),\n",
       " (2, 'Rubber Soul', 2000, 'Amanda', 'Sam'),\n",
       " (3, 'My Generation', 2000, 'Toby', 'Sam'),\n",
       " (4, 'Help!', 2018, 'Max', 'Bob'),\n",
       " (5, 'Meet the Beatles', 2018, 'Max', 'Bob')]"
      ]
     },
     "execution_count": 38,
     "metadata": {},
     "output_type": "execute_result"
    }
   ],
   "source": [
    "join_query = \"\"\"\n",
    "SELECT transaction_id, album_purchased, year, customer_name, cashier_name FROM (music_store\n",
    "JOIN cashier\n",
    "ON cashier.cashier_id = music_store.cashier_id)\n",
    "JOIN customer\n",
    "ON customer.customer_id = music_store.customer_id\n",
    "\"\"\"\n",
    "cur.execute(join_query)\n",
    "cur.fetchall()"
   ]
  },
  {
   "cell_type": "code",
   "execution_count": 42,
   "metadata": {},
   "outputs": [],
   "source": [
    "cur.execute('DROP TABLE IF EXISTS music_store')\n",
    "cur.execute('DROP TABLE IF EXISTS cashier')\n",
    "cur.execute('DROP TABLE IF EXISTS customer')"
   ]
  },
  {
   "cell_type": "code",
   "execution_count": 43,
   "metadata": {},
   "outputs": [],
   "source": [
    "cur.close()\n",
    "conn.close()"
   ]
  },
  {
   "cell_type": "code",
   "execution_count": null,
   "metadata": {},
   "outputs": [],
   "source": []
  }
 ],
 "metadata": {
  "interpreter": {
   "hash": "916dbcbb3f70747c44a77c7bcd40155683ae19c65e1c03b4aa3499c5328201f1"
  },
  "kernelspec": {
   "display_name": "Python 3.8.10 64-bit",
   "language": "python",
   "name": "python3"
  },
  "language_info": {
   "codemirror_mode": {
    "name": "ipython",
    "version": 3
   },
   "file_extension": ".py",
   "mimetype": "text/x-python",
   "name": "python",
   "nbconvert_exporter": "python",
   "pygments_lexer": "ipython3",
   "version": "3.8.10"
  },
  "orig_nbformat": 4
 },
 "nbformat": 4,
 "nbformat_minor": 2
}
