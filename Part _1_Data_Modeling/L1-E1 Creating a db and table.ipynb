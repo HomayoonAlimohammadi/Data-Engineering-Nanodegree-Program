{
 "cells": [
  {
   "cell_type": "code",
   "execution_count": 14,
   "metadata": {},
   "outputs": [],
   "source": [
    "import psycopg2 as pg\n",
    "import json\n",
    "\n",
    "with open('db_credentials.json', 'r') as file:\n",
    "    creds = json.load(file)\n",
    "\n",
    "USER = creds['username']\n",
    "PASSWORD = creds['password']\n"
   ]
  },
  {
   "cell_type": "code",
   "execution_count": 16,
   "metadata": {},
   "outputs": [],
   "source": [
    "try:\n",
    "    conn = pg.connect(\n",
    "        database='postgres',\n",
    "        user=USER,\n",
    "        password=PASSWORD\n",
    "    )\n",
    "    conn.set_session(autocommit=True)\n",
    "    cur = conn.cursor()\n",
    "\n",
    "except pg.OperationalError as e:\n",
    "    print('Error connecting to Postgres Database.')\n",
    "    print(e)\n"
   ]
  },
  {
   "cell_type": "code",
   "execution_count": 17,
   "metadata": {},
   "outputs": [],
   "source": [
    "cur.execute('CREATE DATABASE udacity;')"
   ]
  },
  {
   "cell_type": "code",
   "execution_count": 18,
   "metadata": {},
   "outputs": [],
   "source": [
    "cur.close()\n",
    "conn.close()"
   ]
  },
  {
   "cell_type": "code",
   "execution_count": 19,
   "metadata": {},
   "outputs": [],
   "source": [
    "try:\n",
    "    conn = pg.connect(\n",
    "        database='udacity',\n",
    "        user=USER,\n",
    "        password=PASSWORD\n",
    "    )\n",
    "    conn.set_session(autocommit=True)\n",
    "    cur = conn.cursor()\n",
    "\n",
    "except pg.OperationalError as e:\n",
    "    print('Error connecting to Postgres Database.')\n",
    "    print(e)"
   ]
  },
  {
   "cell_type": "code",
   "execution_count": 49,
   "metadata": {},
   "outputs": [],
   "source": [
    "cur.execute('DROP TABLE IF EXISTS music_library')"
   ]
  },
  {
   "cell_type": "code",
   "execution_count": 50,
   "metadata": {},
   "outputs": [],
   "source": [
    "query = '''\n",
    "CREATE TABLE IF NOT EXISTS music_library (\n",
    "    song_id SERIAL PRIMARY KEY,\n",
    "    song_name VARCHAR(50) NOT NULL,\n",
    "    artist_name VARCHAR(50),\n",
    "    year SMALLINT CHECK(year > 0),\n",
    "    album_name VARCHAR(50),\n",
    "    single BOOLEAN\n",
    ");\n",
    "'''\n",
    "\n",
    "cur.execute(query)"
   ]
  },
  {
   "cell_type": "code",
   "execution_count": 51,
   "metadata": {},
   "outputs": [
    {
     "data": {
      "text/plain": [
       "[]"
      ]
     },
     "execution_count": 51,
     "metadata": {},
     "output_type": "execute_result"
    }
   ],
   "source": [
    "cur.execute('SELECT * FROM music_library')\n",
    "cur.fetchall()"
   ]
  },
  {
   "cell_type": "code",
   "execution_count": 55,
   "metadata": {},
   "outputs": [
    {
     "data": {
      "text/plain": [
       "[(1, 'Across The Universe', 'The Beatles', 1970, 'Let It Be', False),\n",
       " (2, 'Think For Yourself', 'The Beatles', 1965, 'Rubber Soul', False)]"
      ]
     },
     "execution_count": 55,
     "metadata": {},
     "output_type": "execute_result"
    }
   ],
   "source": [
    "query = \"\"\"\n",
    "INSERT INTO music_library\n",
    "(song_name, artist_name, year, album_name, single)\n",
    "VALUES\n",
    "('Across The Universe', 'The Beatles', 1970,  'Let It Be', False),\n",
    "('Think For Yourself','The Beatles', 1965, 'Rubber Soul', False)\n",
    "RETURNING *\n",
    "\"\"\"\n",
    "\n",
    "cur.execute(query)\n",
    "cur.fetchall()"
   ]
  },
  {
   "cell_type": "code",
   "execution_count": 56,
   "metadata": {},
   "outputs": [],
   "source": [
    "cur.close()\n",
    "conn.close()"
   ]
  }
 ],
 "metadata": {
  "interpreter": {
   "hash": "916dbcbb3f70747c44a77c7bcd40155683ae19c65e1c03b4aa3499c5328201f1"
  },
  "kernelspec": {
   "display_name": "Python 3.8.10 64-bit",
   "language": "python",
   "name": "python3"
  },
  "language_info": {
   "codemirror_mode": {
    "name": "ipython",
    "version": 3
   },
   "file_extension": ".py",
   "mimetype": "text/x-python",
   "name": "python",
   "nbconvert_exporter": "python",
   "pygments_lexer": "ipython3",
   "version": "3.8.10"
  },
  "orig_nbformat": 4
 },
 "nbformat": 4,
 "nbformat_minor": 2
}
