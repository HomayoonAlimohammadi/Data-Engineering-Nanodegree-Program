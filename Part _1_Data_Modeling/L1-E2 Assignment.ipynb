{
 "cells": [
  {
   "cell_type": "code",
   "execution_count": 2,
   "metadata": {},
   "outputs": [],
   "source": [
    "import cassandra\n",
    "from cassandra.cluster import Cluster\n",
    "\n",
    "try:\n",
    "    cluster = Cluster(['localhost'])\n",
    "    session = cluster.connect()\n",
    "except cassandra.UnresolvableContactPoints as e:\n",
    "    print('Error: Unable to connect to Cluster')"
   ]
  },
  {
   "cell_type": "code",
   "execution_count": 3,
   "metadata": {},
   "outputs": [
    {
     "data": {
      "text/plain": [
       "<cassandra.cluster.ResultSet at 0x7f6b8ccebe20>"
      ]
     },
     "execution_count": 3,
     "metadata": {},
     "output_type": "execute_result"
    }
   ],
   "source": [
    "session.execute('''\n",
    "CREATE KEYSPACE IF NOT EXISTS udacity\n",
    "WITH REPLICATION = \n",
    "{ 'class': 'SimpleStrategy', 'replication_factor': 1 }\n",
    "''')"
   ]
  },
  {
   "cell_type": "code",
   "execution_count": 4,
   "metadata": {},
   "outputs": [],
   "source": [
    "session.set_keyspace('udacity')"
   ]
  },
  {
   "cell_type": "code",
   "execution_count": 5,
   "metadata": {},
   "outputs": [
    {
     "data": {
      "text/plain": [
       "<cassandra.cluster.ResultSet at 0x7f6b898fdc40>"
      ]
     },
     "execution_count": 5,
     "metadata": {},
     "output_type": "execute_result"
    }
   ],
   "source": [
    "query = '''\n",
    "CREATE TABLE IF NOT EXISTS music_library (\n",
    "    song_title TEXT,\n",
    "    artist_name TEXT,\n",
    "    year INT,\n",
    "    album_name TEXT,\n",
    "    single BOOLEAN,\n",
    "    PRIMARY KEY ((year, artist_name), album_name, song_title)\n",
    ")'''\n",
    "\n",
    "session.execute(query)"
   ]
  },
  {
   "cell_type": "code",
   "execution_count": 10,
   "metadata": {},
   "outputs": [
    {
     "data": {
      "text/plain": [
       "<cassandra.cluster.ResultSet at 0x7f6b8808d4c0>"
      ]
     },
     "execution_count": 10,
     "metadata": {},
     "output_type": "execute_result"
    }
   ],
   "source": [
    "query = \"\"\"\n",
    "INSERT INTO music_library\n",
    "(song_title, artist_name, year, album_name, single)\n",
    "VALUES\n",
    "('Across the Universe', 'The Beatles', 1970, 'Let it Be', False)\n",
    "\"\"\"\n",
    "\n",
    "session.execute(query)\n",
    "\n",
    "query = \"\"\"\n",
    "INSERT INTO music_library\n",
    "(song_title, artist_name, year, album_name, single)\n",
    "VALUES\n",
    "('Think for yourself', 'The Beatles', 1965, 'Rubber Souls', False)\n",
    "\"\"\"\n",
    "\n",
    "session.execute(query)"
   ]
  },
  {
   "cell_type": "code",
   "execution_count": 18,
   "metadata": {},
   "outputs": [
    {
     "name": "stdout",
     "output_type": "stream",
     "text": [
      "1970, The Beatles, Let it Be, Across the Universe, False\n"
     ]
    }
   ],
   "source": [
    "query = \"\"\"\n",
    "SELECT * FROM music_library\n",
    "WHERE year=1970 AND artist_name='The Beatles'\n",
    "\"\"\"\n",
    "data = session.execute(query)\n",
    "\n",
    "for row in data:\n",
    "    print(f'{row.year}, {row.artist_name}, {row.album_name}, {row.song_title}, {row.single}')\n"
   ]
  },
  {
   "cell_type": "code",
   "execution_count": 19,
   "metadata": {},
   "outputs": [],
   "source": [
    "session.shutdown()\n",
    "cluster.shutdown()"
   ]
  },
  {
   "cell_type": "code",
   "execution_count": null,
   "metadata": {},
   "outputs": [],
   "source": []
  }
 ],
 "metadata": {
  "interpreter": {
   "hash": "916dbcbb3f70747c44a77c7bcd40155683ae19c65e1c03b4aa3499c5328201f1"
  },
  "kernelspec": {
   "display_name": "Python 3.8.10 64-bit",
   "language": "python",
   "name": "python3"
  },
  "language_info": {
   "codemirror_mode": {
    "name": "ipython",
    "version": 3
   },
   "file_extension": ".py",
   "mimetype": "text/x-python",
   "name": "python",
   "nbconvert_exporter": "python",
   "pygments_lexer": "ipython3",
   "version": "3.8.10"
  },
  "orig_nbformat": 4
 },
 "nbformat": 4,
 "nbformat_minor": 2
}
